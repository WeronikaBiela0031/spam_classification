{
 "cells": [
  {
   "cell_type": "markdown",
   "metadata": {},
   "source": [
    "# Spam/ham classification"
   ]
  },
  {
   "cell_type": "markdown",
   "metadata": {},
   "source": [
    "In this assignment you will train a classifier to recognise spam emails. The data was taken from this [enron spam](https://www.kaggle.com/wanderfj/enron-spam)  kaggle dataset. The dataset is described [here](https://www.researchgate.net/publication/221650814_Spam_Filtering_with_Naive_Bayes_-_Which_Naive_Bayes). This will familiarize you with tools  for text analysis  from  the scikit-learn library. \n",
    "\n",
    "The data is provided as a zip archive \"enron_spam.zip\". You can unpack it with command `unzip enron_spam.zip` which will create a directory `data`. "
   ]
  },
  {
   "cell_type": "markdown",
   "metadata": {},
   "source": [
    "The data  consists of 6 batches of emails. Each batch corresponds to different person and different spam source. Each batch is stored in different subdirectory of `data` named `Enron_1` to `Enron_6`. Each email is stored in separate file :( Spam and ham emails are stored in different subdirectories. Fortunatelly the scikit-learn library provides a functiona `load_files` that can read data in this format. "
   ]
  },
  {
   "cell_type": "markdown",
   "metadata": {},
   "source": [
    "# ALL LIBRARIES NEEDED"
   ]
  },
  {
   "cell_type": "code",
   "execution_count": 2,
   "metadata": {},
   "outputs": [
    {
     "name": "stdout",
     "output_type": "stream",
     "text": [
      "DONE\n"
     ]
    }
   ],
   "source": [
    "import numpy as np\n",
    "import pandas as pd\n",
    "import matplotlib.pyplot as plt\n",
    "from sklearn.datasets import load_files\n",
    "from sklearn.model_selection import train_test_split\n",
    "from sklearn.naive_bayes import MultinomialNB\n",
    "from sklearn.feature_extraction.text import CountVectorizer\n",
    "from sklearn.metrics import accuracy_score\n",
    "from sklearn.metrics import roc_curve, roc_auc_score\n",
    "from sklearn.metrics import confusion_matrix, plot_confusion_matrix\n",
    "from sklearn.metrics import f1_score, precision_score, recall_score\n",
    "print(\"DONE\")"
   ]
  },
  {
   "cell_type": "markdown",
   "metadata": {},
   "source": [
    "You can load data from given batch using the function"
   ]
  },
  {
   "cell_type": "code",
   "execution_count": 3,
   "metadata": {},
   "outputs": [
    {
     "name": "stdout",
     "output_type": "stream",
     "text": [
      "DONE\n"
     ]
    }
   ],
   "source": [
    "data1 = load_files('enron_spam/data/Enron_1/', encoding='latin-1', shuffle=True, categories=['ham', 'spam'] )\n",
    "print(\"DONE\")"
   ]
  },
  {
   "cell_type": "markdown",
   "metadata": {},
   "source": [
    "It returns a python dictionary. The entry 'data' contains the data from files and the entry 'target' contains the labels assigned according to the subdirectory names. The labels are integers and corresponding names can be found in the entry 'target_names'."
   ]
  },
  {
   "cell_type": "code",
   "execution_count": 4,
   "metadata": {},
   "outputs": [
    {
     "data": {
      "text/plain": [
       "4137"
      ]
     },
     "execution_count": 4,
     "metadata": {},
     "output_type": "execute_result"
    }
   ],
   "source": [
    "len(data1['data'])"
   ]
  },
  {
   "cell_type": "code",
   "execution_count": 5,
   "metadata": {},
   "outputs": [
    {
     "data": {
      "text/plain": [
       "[\"Subject: re : cornhusker deal\\r\\nrita ,\\r\\nthings have been changing daily on this thing , so we were waiting to get it\\r\\nall figured out .\\r\\ni did tell mark mccoy to handle this , and he is going to get you all the\\r\\ninformation right after\\r\\nthe long weekend . hope this helps . pat\\r\\nrita wynne @ ect\\r\\n08 / 31 / 2000 05 : 25 pm\\r\\nto : pat clynes / corp / enron @ enron , daren j farmer / hou / ect @ ect\\r\\ncc :\\r\\nsubject : cornhusker deal\\r\\nhey guys ,\\r\\ni need to be bought up to speed on the cornhusker deal . i don ' t know what\\r\\nthe impact is to my group or what we should expect to see in terms of\\r\\nallocations or settlements . any info . either of you can provide would be\\r\\nappreciated . thanks and have a great holiday !\",\n",
       " 'Subject: enron / hpl actuals for sept . 18 , 2000\\r\\nls hpl lsk ic 2 . 500 / enron']"
      ]
     },
     "execution_count": 5,
     "metadata": {},
     "output_type": "execute_result"
    }
   ],
   "source": [
    "data1['data'][:2]"
   ]
  },
  {
   "cell_type": "code",
   "execution_count": 6,
   "metadata": {},
   "outputs": [
    {
     "data": {
      "text/plain": [
       "4137"
      ]
     },
     "execution_count": 6,
     "metadata": {},
     "output_type": "execute_result"
    }
   ],
   "source": [
    "len(data1['target'])"
   ]
  },
  {
   "cell_type": "code",
   "execution_count": 7,
   "metadata": {},
   "outputs": [
    {
     "data": {
      "text/plain": [
       "array([0, 0])"
      ]
     },
     "execution_count": 7,
     "metadata": {},
     "output_type": "execute_result"
    }
   ],
   "source": [
    "data1['target'][:2]"
   ]
  },
  {
   "cell_type": "code",
   "execution_count": 8,
   "metadata": {},
   "outputs": [
    {
     "data": {
      "text/plain": [
       "['ham', 'spam']"
      ]
     },
     "execution_count": 8,
     "metadata": {},
     "output_type": "execute_result"
    }
   ],
   "source": [
    "data1['target_names']"
   ]
  },
  {
   "cell_type": "markdown",
   "metadata": {},
   "source": [
    "## Problems "
   ]
  },
  {
   "cell_type": "markdown",
   "metadata": {},
   "source": [
    "1. Train the multinomial bayes classifier using scikit-learn  for the first batch of data in data/Enron_1 as described in text_analysis notebook.\n",
    "    1. Set asside 20% of data for testings and train the multinomial bayes classifier using the remaining 80% of data.This requires  transforming the data to feature vectors using CountVectoriser  from scikit-learn. How big is the resulting vocabulary ? \n",
    "    1. Using the test set \n",
    "        1. Draw the confusion matrix using `plot_confusion_matrix` from scikit-learn (see the latest update of the text_analysis notebook) using the test set. \n",
    "        1. Calculate recall and precision scores. \n",
    "        1. Draw the ROC curve and calculate the AUC score  using the test set. \n",
    "        1. What percentage of valid mails is classified as spam?\n",
    "        1. Assuming that only mails classified as ham are put in our mailbox what percentage of mail in our inbox is spam?\n",
    "        \n",
    "    1. Find ten most probable and least probable words for each class.     \n",
    "    1. Check the classifier on the remaining datasets data/Enron_2-6. For each set calculate recall and precision. \n",
    "    1. Combine all sets.  Train a new classifier on the combined  set, of course after dividing into test and train sets. Redo point B. using this classifier and combined test set. \n",
    "    1. Assumimg that we want to keep the frequency of misclassified ham mails belowe 5 per mile, what would be the percentage of spam in our inbox?\n",
    "   "
   ]
  },
  {
   "cell_type": "markdown",
   "metadata": {},
   "source": [
    "__Hint__ You can create a dataframe from the data using"
   ]
  },
  {
   "cell_type": "code",
   "execution_count": 9,
   "metadata": {},
   "outputs": [
    {
     "name": "stdout",
     "output_type": "stream",
     "text": [
      "DONE\n"
     ]
    }
   ],
   "source": [
    "df1 = pd.DataFrame({'text': data1['data'], 'spam': data1['target']})\n",
    "print(\"DONE\")"
   ]
  },
  {
   "cell_type": "code",
   "execution_count": 10,
   "metadata": {},
   "outputs": [
    {
     "data": {
      "text/plain": [
       "0    2937\n",
       "1    1200\n",
       "Name: spam, dtype: int64"
      ]
     },
     "execution_count": 10,
     "metadata": {},
     "output_type": "execute_result"
    }
   ],
   "source": [
    "df1.spam.value_counts()"
   ]
  },
  {
   "cell_type": "code",
   "execution_count": 13,
   "metadata": {},
   "outputs": [
    {
     "data": {
      "text/html": [
       "<div>\n",
       "<style scoped>\n",
       "    .dataframe tbody tr th:only-of-type {\n",
       "        vertical-align: middle;\n",
       "    }\n",
       "\n",
       "    .dataframe tbody tr th {\n",
       "        vertical-align: top;\n",
       "    }\n",
       "\n",
       "    .dataframe thead th {\n",
       "        text-align: right;\n",
       "    }\n",
       "</style>\n",
       "<table border=\"1\" class=\"dataframe\">\n",
       "  <thead>\n",
       "    <tr style=\"text-align: right;\">\n",
       "      <th></th>\n",
       "      <th>text</th>\n",
       "      <th>spam</th>\n",
       "    </tr>\n",
       "  </thead>\n",
       "  <tbody>\n",
       "    <tr>\n",
       "      <th>0</th>\n",
       "      <td>Subject: re : cornhusker deal\\r\\nrita ,\\r\\nthi...</td>\n",
       "      <td>0</td>\n",
       "    </tr>\n",
       "    <tr>\n",
       "      <th>1</th>\n",
       "      <td>Subject: enron / hpl actuals for sept . 18 , 2...</td>\n",
       "      <td>0</td>\n",
       "    </tr>\n",
       "    <tr>\n",
       "      <th>2</th>\n",
       "      <td>Subject: fw : teco / frontera financial trades...</td>\n",
       "      <td>0</td>\n",
       "    </tr>\n",
       "    <tr>\n",
       "      <th>3</th>\n",
       "      <td>Subject: jan . 01 sale to texas general land o...</td>\n",
       "      <td>0</td>\n",
       "    </tr>\n",
       "    <tr>\n",
       "      <th>4</th>\n",
       "      <td>Subject: re : volume increase - hpl meter 68 -...</td>\n",
       "      <td>0</td>\n",
       "    </tr>\n",
       "    <tr>\n",
       "      <th>5</th>\n",
       "      <td>Subject: re : koch midstream services co\\r\\nti...</td>\n",
       "      <td>0</td>\n",
       "    </tr>\n",
       "    <tr>\n",
       "      <th>6</th>\n",
       "      <td>Subject: hpl meter # 981525 texoma d / p - gsu...</td>\n",
       "      <td>0</td>\n",
       "    </tr>\n",
       "    <tr>\n",
       "      <th>7</th>\n",
       "      <td>Subject: buy office xp for fifty bucks percent...</td>\n",
       "      <td>1</td>\n",
       "    </tr>\n",
       "  </tbody>\n",
       "</table>\n",
       "</div>"
      ],
      "text/plain": [
       "                                                text  spam\n",
       "0  Subject: re : cornhusker deal\\r\\nrita ,\\r\\nthi...     0\n",
       "1  Subject: enron / hpl actuals for sept . 18 , 2...     0\n",
       "2  Subject: fw : teco / frontera financial trades...     0\n",
       "3  Subject: jan . 01 sale to texas general land o...     0\n",
       "4  Subject: re : volume increase - hpl meter 68 -...     0\n",
       "5  Subject: re : koch midstream services co\\r\\nti...     0\n",
       "6  Subject: hpl meter # 981525 texoma d / p - gsu...     0\n",
       "7  Subject: buy office xp for fifty bucks percent...     1"
      ]
     },
     "execution_count": 13,
     "metadata": {},
     "output_type": "execute_result"
    }
   ],
   "source": [
    "df1.head(8)"
   ]
  },
  {
   "cell_type": "code",
   "execution_count": 14,
   "metadata": {},
   "outputs": [
    {
     "data": {
      "text/plain": [
       "4137"
      ]
     },
     "execution_count": 14,
     "metadata": {},
     "output_type": "execute_result"
    }
   ],
   "source": [
    "len(df1)"
   ]
  },
  {
   "cell_type": "markdown",
   "metadata": {},
   "source": [
    "# PART: A\n",
    "#Set asside 20% of data for testings and train the multinomial bayes classifier using the remaining 80% of data.\n",
    "#This requires transforming the data to feature vectors using CountVectoriser from scikit-learn.\n",
    "#How big is the resulting vocabulary ? "
   ]
  },
  {
   "cell_type": "code",
   "execution_count": 15,
   "metadata": {},
   "outputs": [],
   "source": [
    "#Set aside 20% of data for testing!\n",
    "seed = 57576\n",
    "train_data, test_data = train_test_split(df1,train_size=0.8, test_size=0.2, stratify=df1['spam'], random_state = seed)"
   ]
  },
  {
   "cell_type": "code",
   "execution_count": 16,
   "metadata": {},
   "outputs": [
    {
     "data": {
      "text/plain": [
       "0    2349\n",
       "1     960\n",
       "Name: spam, dtype: int64"
      ]
     },
     "execution_count": 16,
     "metadata": {},
     "output_type": "execute_result"
    }
   ],
   "source": [
    "train_data.spam.value_counts()"
   ]
  },
  {
   "cell_type": "code",
   "execution_count": 17,
   "metadata": {},
   "outputs": [
    {
     "data": {
      "text/plain": [
       "0    588\n",
       "1    240\n",
       "Name: spam, dtype: int64"
      ]
     },
     "execution_count": 17,
     "metadata": {},
     "output_type": "execute_result"
    }
   ],
   "source": [
    "test_data.spam.value_counts()"
   ]
  },
  {
   "cell_type": "code",
   "execution_count": 18,
   "metadata": {},
   "outputs": [
    {
     "name": "stdout",
     "output_type": "stream",
     "text": [
      "MultinomialNB() accuracy score:\n",
      "0.9794685990338164\n",
      "\n",
      "Leangth of the created vocabulary:\n",
      "38236\n"
     ]
    }
   ],
   "source": [
    "#Tokenization\n",
    "vectorizer = CountVectorizer()\n",
    "train_spam_score = vectorizer.fit_transform(train_data.text)\n",
    "test_spam_score = vectorizer.transform(test_data.text)\n",
    "\n",
    "#Multinomial Bayes classification\n",
    "base_spam_classifier = MultinomialNB()\n",
    "base_spam_classifier.fit(train_spam_score, train_data.spam)\n",
    "\n",
    "#Accuracy score of MultinomialNB() classifier\n",
    "print(\"MultinomialNB() accuracy score:\")\n",
    "base_predicted = base_spam_classifier.predict(test_spam_score)\n",
    "base_predicted_proba = base_spam_classifier.predict_proba(test_spam_score)\n",
    "\n",
    "print(accuracy_score(test_data.spam, base_predicted))\n",
    "\n",
    "#Print vocabulaty size\n",
    "print(\"\\nLeangth of the created vocabulary:\")\n",
    "print(len(vectorizer.vocabulary_))\n"
   ]
  },
  {
   "cell_type": "markdown",
   "metadata": {},
   "source": [
    "# PART: B\n",
    "#Using the test set:\n",
    "\n",
    "#a). Draw the confusion matrix using plot_confusion_matrix from scikit-learn\n",
    "#(see the latest update of the text_analysis notebook) using the test set.\n",
    "\n",
    "#b). Calculate recall and precision scores.\n",
    "\n",
    "#c). Draw the ROC curve and calculate the AUC score using the test set.\n",
    "\n",
    "#d). What percentage of valid mails is classified as spam?\n",
    "\n",
    "#e). Assuming that only mails classified as ham are put in our mailbox what percentage of mail\n",
    "#in our inbox is spam?\n"
   ]
  },
  {
   "cell_type": "code",
   "execution_count": 19,
   "metadata": {},
   "outputs": [
    {
     "data": {
      "image/png": "[encoded data removed]",
      "text/plain": [
       "<Figure size 432x288 with 2 Axes>"
      ]
     },
     "metadata": {
      "needs_background": "light"
     },
     "output_type": "display_data"
    }
   ],
   "source": [
    "#PART B a).Draw the confusion matrix using plot_confusion_matrix from scikit-learn\n",
    "fig, ax = plt.subplots(figsize=(6,4))\n",
    "disp = plot_confusion_matrix(base_spam_classifier, test_spam_score, test_data.spam, normalize='true', ax=ax);"
   ]
  },
  {
   "cell_type": "code",
   "execution_count": 20,
   "metadata": {},
   "outputs": [
    {
     "name": "stdout",
     "output_type": "stream",
     "text": [
      "precision score: 0.9779591690287395\n",
      "recall score:    0.9719812925170068\n",
      "f1 score:        0.9749079727260572\n"
     ]
    }
   ],
   "source": [
    "#PART B b). Calculate recall and precision scores.\n",
    "print(\"precision score:\", precision_score(test_data.spam, base_predicted, average='macro'))\n",
    "print(\"recall score:   \", recall_score(test_data.spam, base_predicted, average='macro'))\n",
    "print(\"f1 score:       \", f1_score(test_data.spam, base_predicted, average='macro'))"
   ]
  },
  {
   "cell_type": "code",
   "execution_count": 21,
   "metadata": {},
   "outputs": [
    {
     "name": "stdout",
     "output_type": "stream",
     "text": [
      "----ROC----RECEIVER---OPERATOR---CHARACTERSTIC----\n",
      "\n",
      "When prob>threshold => return 1 else return 0.\n",
      "Prob tresholds:\n",
      " [2.00000000e+000 1.00000000e+000 1.00000000e+000 1.00000000e+000\n",
      " 1.00000000e+000 1.00000000e+000 9.99991793e-001 9.99985326e-001\n",
      " 9.99879073e-001 9.99851530e-001 8.44101851e-001 7.76648332e-001\n",
      " 5.24498602e-001 4.62884323e-001 3.19326043e-001 2.86435580e-001\n",
      " 2.31146096e-001 1.64588247e-001 1.17650249e-001 7.36978627e-002\n",
      " 6.46712823e-002 2.43492266e-002 1.78888577e-004 5.59767597e-005\n",
      " 7.75180773e-025 5.44590601e-025 3.73087103e-028 2.38427254e-028\n",
      " 6.01001468e-031 3.12344189e-031 2.23045936e-319 0.00000000e+000]\n"
     ]
    },
    {
     "data": {
      "image/png": "[encoded data removed]",
      "text/plain": [
       "<Figure size 432x288 with 1 Axes>"
      ]
     },
     "metadata": {
      "needs_background": "light"
     },
     "output_type": "display_data"
    },
    {
     "name": "stdout",
     "output_type": "stream",
     "text": [
      "----AUC----AREA---UNDER---CURVE-------------------\n",
      "\n",
      "0.9969104308390022\n"
     ]
    }
   ],
   "source": [
    "#PART B c). Draw ROC curve and calculate AUC score using test set.\n",
    "print(\"----ROC----RECEIVER---OPERATOR---CHARACTERSTIC----\\n\")\n",
    "fpr, tpr, thresholds = roc_curve(test_data.spam, base_predicted_proba[:,1])\n",
    "print(\"When prob>threshold => return 1 else return 0.\")\n",
    "print(\"Prob tresholds:\\n\",thresholds)\n",
    "plt.plot(fpr,tpr)\n",
    "plt.show()\n",
    "print(\"----AUC----AREA---UNDER---CURVE-------------------\\n\")\n",
    "print(roc_auc_score(test_data.spam, base_predicted_proba[:,1]))"
   ]
  },
  {
   "cell_type": "code",
   "execution_count": 22,
   "metadata": {},
   "outputs": [
    {
     "name": "stdout",
     "output_type": "stream",
     "text": [
      "Percentage of valid mails classified as spam (FPR): 1%\n"
     ]
    }
   ],
   "source": [
    "#PART B d). What percentage of valid mails is spam?\n",
    "#In other words we are looking for FPR, where positive means spam.\n",
    "ham_mails_as_spam = np.count_nonzero(base_predicted[np.where(test_data.spam==0)]==1)\n",
    "ham_mails = len(base_predicted[np.where(test_data.spam==0)])\n",
    "print(\"Percentage of valid mails classified as spam (FPR): {0:.0%}\".format(ham_mails_as_spam/ham_mails))"
   ]
  },
  {
   "cell_type": "code",
   "execution_count": 23,
   "metadata": {},
   "outputs": [
    {
     "name": "stdout",
     "output_type": "stream",
     "text": [
      "Percentage of valid mails classified as spam: 2%\n"
     ]
    }
   ],
   "source": [
    "#PART B e). Assuming that only mails classified as ham are put \n",
    "#in our mailbox what percentage of mail in our inbox is spam?\n",
    "#In other words we are looking for FNR.\n",
    "spam_mails_as_ham= np.count_nonzero(base_predicted[np.where(test_data.spam==1)]==0)\n",
    "as_ham_mails = np.count_nonzero(base_predicted==0)\n",
    "\n",
    "print(\"Percentage of valid mails classified as spam: {0:.0%}\".format(spam_mails_as_ham/as_ham_mails))"
   ]
  },
  {
   "cell_type": "markdown",
   "metadata": {},
   "source": [
    "# PART: C"
   ]
  },
  {
   "cell_type": "code",
   "execution_count": 24,
   "metadata": {},
   "outputs": [
    {
     "data": {
      "text/html": [
       "<div>\n",
       "<style scoped>\n",
       "    .dataframe tbody tr th:only-of-type {\n",
       "        vertical-align: middle;\n",
       "    }\n",
       "\n",
       "    .dataframe tbody tr th {\n",
       "        vertical-align: top;\n",
       "    }\n",
       "\n",
       "    .dataframe thead th {\n",
       "        text-align: right;\n",
       "    }\n",
       "</style>\n",
       "<table border=\"1\" class=\"dataframe\">\n",
       "  <thead>\n",
       "    <tr style=\"text-align: right;\">\n",
       "      <th></th>\n",
       "      <th>1</th>\n",
       "      <th>2</th>\n",
       "      <th>3</th>\n",
       "      <th>4</th>\n",
       "      <th>5</th>\n",
       "      <th>6</th>\n",
       "      <th>7</th>\n",
       "      <th>8</th>\n",
       "      <th>9</th>\n",
       "      <th>10</th>\n",
       "    </tr>\n",
       "  </thead>\n",
       "  <tbody>\n",
       "    <tr>\n",
       "      <th>0</th>\n",
       "      <td>the</td>\n",
       "      <td>to</td>\n",
       "      <td>ect</td>\n",
       "      <td>and</td>\n",
       "      <td>for</td>\n",
       "      <td>hou</td>\n",
       "      <td>subject</td>\n",
       "      <td>on</td>\n",
       "      <td>enron</td>\n",
       "      <td>of</td>\n",
       "    </tr>\n",
       "    <tr>\n",
       "      <th>1</th>\n",
       "      <td>the</td>\n",
       "      <td>to</td>\n",
       "      <td>and</td>\n",
       "      <td>of</td>\n",
       "      <td>in</td>\n",
       "      <td>you</td>\n",
       "      <td>for</td>\n",
       "      <td>is</td>\n",
       "      <td>this</td>\n",
       "      <td>your</td>\n",
       "    </tr>\n",
       "  </tbody>\n",
       "</table>\n",
       "</div>"
      ],
      "text/plain": [
       "     1   2    3    4    5    6        7   8      9    10\n",
       "0  the  to  ect  and  for  hou  subject  on  enron    of\n",
       "1  the  to  and   of   in  you      for  is   this  your"
      ]
     },
     "execution_count": 24,
     "metadata": {},
     "output_type": "execute_result"
    }
   ],
   "source": [
    "#PART C \n",
    "#Find ten most probable and least probable words for each class. \n",
    "n = 10 \n",
    "\n",
    "def word(i):\n",
    "    return vectorizer.get_feature_names()[i]\n",
    "\n",
    "word = np.vectorize(word)\n",
    "most_probable = np.argsort(base_spam_classifier.feature_log_prob_,axis=1)[:,-1:-n-1:-1]\n",
    "words = word(most_probable)\n",
    "pd.DataFrame(words, index =[0,1], columns=range(1,11))"
   ]
  },
  {
   "cell_type": "markdown",
   "metadata": {},
   "source": [
    "# PART: D\n",
    "#Check the classifier on the remaining datasets data/Enron_2-6. For each set calculate recall and precision."
   ]
  },
  {
   "cell_type": "code",
   "execution_count": 25,
   "metadata": {},
   "outputs": [
    {
     "name": "stdout",
     "output_type": "stream",
     "text": [
      "DONE\n"
     ]
    }
   ],
   "source": [
    "data2 = load_files('enron_spam/data/Enron_2/', encoding='latin-1', shuffle=True, categories=['ham', 'spam'] )\n",
    "data3 = load_files('enron_spam/data/Enron_3/', encoding='latin-1', shuffle=True, categories=['ham', 'spam'] )\n",
    "data4 = load_files('enron_spam/data/Enron_4/', encoding='latin-1', shuffle=True, categories=['ham', 'spam'] )\n",
    "data5 = load_files('enron_spam/data/Enron_5/', encoding='latin-1', shuffle=True, categories=['ham', 'spam'] )\n",
    "data6 = load_files('enron_spam/data/Enron_6/', encoding='latin-1', shuffle=True, categories=['ham', 'spam'] )\n",
    "print(\"DONE\")"
   ]
  },
  {
   "cell_type": "code",
   "execution_count": 26,
   "metadata": {},
   "outputs": [
    {
     "name": "stdout",
     "output_type": "stream",
     "text": [
      "DONE\n"
     ]
    }
   ],
   "source": [
    "df2 = pd.DataFrame({'text': data2['data'], 'spam': data2['target']})\n",
    "df3 = pd.DataFrame({'text': data3['data'], 'spam': data3['target']})\n",
    "df4 = pd.DataFrame({'text': data4['data'], 'spam': data4['target']})\n",
    "df5 = pd.DataFrame({'text': data5['data'], 'spam': data5['target']})\n",
    "df6 = pd.DataFrame({'text': data6['data'], 'spam': data6['target']})\n",
    "\n",
    "dfi=[df2, df3, df4, df5, df6]\n",
    "print(\"DONE\")"
   ]
  },
  {
   "cell_type": "code",
   "execution_count": 27,
   "metadata": {},
   "outputs": [
    {
     "name": "stdout",
     "output_type": "stream",
     "text": [
      "precision score 1: 0.9294909718666684\n",
      "recall score    1: 0.9496509814291079\n",
      "f1 score        1: 0.9389047205329037\n",
      "precision score 2: 0.9551093443355267\n",
      "recall score    2: 0.9709296769502441\n",
      "f1 score        2: 0.9625919282230864\n",
      "precision score 3: 0.9201043708520451\n",
      "recall score    3: 0.940965430212096\n",
      "f1 score        3: 0.9298279517624719\n",
      "precision score 4: 0.9270136832302827\n",
      "recall score    4: 0.9616666666666667\n",
      "f1 score        4: 0.9414938950151319\n",
      "precision score 5: 0.9428285925917053\n",
      "recall score    5: 0.9620833333333333\n",
      "f1 score        5: 0.9518973783561642\n"
     ]
    }
   ],
   "source": [
    "#PART B b). Calculate recall and precision scores.\n",
    "for i in range(5):\n",
    "    base_predicted_i = base_spam_classifier.predict(vectorizer.transform(dfi[i].text))\n",
    "    print(\"precision score {}:\".format(i+1), precision_score(dfi[i].spam, base_predicted_i, average='macro'))\n",
    "    print(\"recall score    {}:\".format(i+1), recall_score(dfi[i].spam, base_predicted_i, average='macro'))\n",
    "    print(\"f1 score        {}:\".format(i+1), f1_score(dfi[i].spam, base_predicted_i, average='macro'))"
   ]
  },
  {
   "cell_type": "markdown",
   "metadata": {},
   "source": [
    "# PART: E\n",
    "#Combine all sets. Train a new classifier on the combined set, of course after dividing into test and train sets. Redo point B. using this classifier and combined test set. "
   ]
  },
  {
   "cell_type": "code",
   "execution_count": 34,
   "metadata": {},
   "outputs": [
    {
     "name": "stdout",
     "output_type": "stream",
     "text": [
      "DONE\n"
     ]
    }
   ],
   "source": [
    "df1 = pd.DataFrame({'text': data1['data'], 'spam': data1['target']})\n",
    "dframe=[df1, df2, df3, df4, df5, df6]\n",
    "all_sets = pd.concat(dframe)\n",
    "print(\"DONE\")"
   ]
  },
  {
   "cell_type": "code",
   "execution_count": 37,
   "metadata": {},
   "outputs": [],
   "source": [
    "seed = 57576\n",
    "train_data_e, test_data_e = train_test_split(all_sets, train_size=0.8, test_size=0.2, stratify=all_sets['spam'], random_state = seed)"
   ]
  },
  {
   "cell_type": "code",
   "execution_count": 42,
   "metadata": {},
   "outputs": [
    {
     "name": "stdout",
     "output_type": "stream",
     "text": [
      "\n",
      "Leangth of the created vocabulary:\n",
      "127932\n",
      "precision score: 0.9853399526926674\n",
      "recall score:    0.9853593761453405\n",
      "f1 score:        0.985349359328858\n"
     ]
    },
    {
     "data": {
      "image/png": "[encoded data removed]",
      "text/plain": [
       "<Figure size 432x288 with 2 Axes>"
      ]
     },
     "metadata": {
      "needs_background": "light"
     },
     "output_type": "display_data"
    }
   ],
   "source": [
    "#Tokenization\n",
    "vectorizer_e = CountVectorizer()\n",
    "train_spam_score_e = vectorizer_e.fit_transform(train_data_e.text)\n",
    "test_spam_score_e = vectorizer_e.transform(test_data_e.text)\n",
    "\n",
    "#Multinomial Bayes classification\n",
    "base_spam_classifier_e = MultinomialNB()\n",
    "base_spam_classifier_e.fit(train_spam_score_e, train_data_e.spam)\n",
    "\n",
    "base_predicted_e = base_spam_classifier_e.predict(test_spam_score_e)\n",
    "base_predicted_proba_e = base_spam_classifier_e.predict_proba(test_spam_score_e)\n",
    "\n",
    "#Print vocabulaty size\n",
    "print(\"\\nLeangth of the created vocabulary:\")\n",
    "print(len(vectorizer_e.vocabulary_))\n",
    "\n",
    "#------------------------------------------------------------------------------------#\n",
    "#------------------------------------REDO B------------------------------------------#\n",
    "#------------------------------------------------------------------------------------#\n",
    "\n",
    "#PART E a).Draw the confusion matrix using plot_confusion_matrix from scikit-learn\n",
    "fig_e, ax_e = plt.subplots(figsize=(6,4))\n",
    "disp_e = plot_confusion_matrix(base_spam_classifier_e, test_spam_score_e, test_data_e.spam, normalize='true', ax=ax_e);\n",
    "\n",
    "#PART E b). Calculate recall and precision scores.\n",
    "print(\"precision score:\", precision_score(test_data_e.spam, base_predicted_e, average='macro'))\n",
    "print(\"recall score:   \", recall_score(test_data_e.spam, base_predicted_e, average='macro'))\n",
    "print(\"f1 score:       \", f1_score(test_data_e.spam, base_predicted_e, average='macro'))"
   ]
  },
  {
   "cell_type": "code",
   "execution_count": 45,
   "metadata": {},
   "outputs": [
    {
     "name": "stdout",
     "output_type": "stream",
     "text": [
      "----ROC----RECEIVER---OPERATOR---CHARACTERSTIC----\n",
      "\n",
      "When prob>threshold => return 1 else return 0.\n",
      "Prob tresholds:\n",
      " [2.00000000e+000 1.00000000e+000 1.00000000e+000 1.00000000e+000\n",
      " 1.00000000e+000 1.00000000e+000 1.00000000e+000 1.00000000e+000\n",
      " 1.00000000e+000 1.00000000e+000 1.00000000e+000 1.00000000e+000\n",
      " 1.00000000e+000 1.00000000e+000 1.00000000e+000 1.00000000e+000\n",
      " 1.00000000e+000 1.00000000e+000 1.00000000e+000 1.00000000e+000\n",
      " 1.00000000e+000 1.00000000e+000 1.00000000e+000 1.00000000e+000\n",
      " 1.00000000e+000 1.00000000e+000 1.00000000e+000 1.00000000e+000\n",
      " 1.00000000e+000 1.00000000e+000 1.00000000e+000 1.00000000e+000\n",
      " 1.00000000e+000 1.00000000e+000 1.00000000e+000 1.00000000e+000\n",
      " 1.00000000e+000 1.00000000e+000 1.00000000e+000 1.00000000e+000\n",
      " 1.00000000e+000 1.00000000e+000 1.00000000e+000 9.99999999e-001\n",
      " 9.99999999e-001 9.99999996e-001 9.99999996e-001 9.99999995e-001\n",
      " 9.99999995e-001 9.99999991e-001 9.99999990e-001 9.99999978e-001\n",
      " 9.99999977e-001 9.99999974e-001 9.99999973e-001 9.99999968e-001\n",
      " 9.99999966e-001 9.99999966e-001 9.99999962e-001 9.99999895e-001\n",
      " 9.99999888e-001 9.99999584e-001 9.99999582e-001 9.99999340e-001\n",
      " 9.99999338e-001 9.99999262e-001 9.99999210e-001 9.99999033e-001\n",
      " 9.99998852e-001 9.99998265e-001 9.99998145e-001 9.99997312e-001\n",
      " 9.99996783e-001 9.99994442e-001 9.99994237e-001 9.99993864e-001\n",
      " 9.99993395e-001 9.99989997e-001 9.99989597e-001 9.99976426e-001\n",
      " 9.99973096e-001 9.99952806e-001 9.99952253e-001 9.99940039e-001\n",
      " 9.99939632e-001 9.99936674e-001 9.99932380e-001 9.99806950e-001\n",
      " 9.99791138e-001 9.99780951e-001 9.99777685e-001 9.99725361e-001\n",
      " 9.99703958e-001 9.99207723e-001 9.99186167e-001 9.98498882e-001\n",
      " 9.98455840e-001 9.97828444e-001 9.97483918e-001 9.97479658e-001\n",
      " 9.97390805e-001 9.96872856e-001 9.96858710e-001 9.92431679e-001\n",
      " 9.91687915e-001 9.79192771e-001 9.78540225e-001 9.73087282e-001\n",
      " 9.68244333e-001 9.66681583e-001 9.64612674e-001 9.34281121e-001\n",
      " 9.32996979e-001 9.20219176e-001 9.06713354e-001 8.81796405e-001\n",
      " 8.77326164e-001 7.58515004e-001 7.55614523e-001 7.25125172e-001\n",
      " 7.08833094e-001 6.82163038e-001 6.59001078e-001 6.19262390e-001\n",
      " 6.18313926e-001 5.18744756e-001 4.73931475e-001 3.32753140e-001\n",
      " 3.14352833e-001 2.75540730e-001 2.53156990e-001 2.44705463e-001\n",
      " 2.38961453e-001 2.36419749e-001 2.10671074e-001 2.09134194e-001\n",
      " 2.08123612e-001 1.86638743e-001 1.76621058e-001 1.72210644e-001\n",
      " 1.71051358e-001 1.33732824e-001 1.26529937e-001 8.51743069e-002\n",
      " 8.00343980e-002 5.97872167e-002 5.51865089e-002 1.85701611e-002\n",
      " 1.84806790e-002 1.01969999e-002 9.71549049e-003 7.23130217e-003\n",
      " 5.68940727e-003 5.18980529e-003 4.56052717e-003 1.16116751e-003\n",
      " 1.03546477e-003 9.88583220e-005 9.06775646e-005 3.27609676e-006\n",
      " 2.49494052e-006 4.17857062e-007 4.15203205e-007 2.53161041e-008\n",
      " 2.15379472e-008 1.72629736e-014 1.46178291e-014 7.55683659e-016\n",
      " 7.39254115e-016 2.76998584e-017 2.76263834e-017 1.72837061e-017\n",
      " 1.66830518e-017 1.12349647e-017 1.08027814e-017 5.34660498e-019\n",
      " 5.21110203e-019 2.65330276e-019 2.52080756e-019 7.05365739e-020\n",
      " 6.79920344e-020 2.31430493e-020 2.18339324e-020 5.39881344e-025\n",
      " 5.17112275e-025 3.02666465e-025 2.81691521e-025 7.80090119e-027\n",
      " 7.70580231e-027 2.04490762e-027 1.64302702e-027 2.05785589e-028\n",
      " 2.01909200e-028 1.02737023e-034 9.02694220e-035 4.15051733e-035\n",
      " 3.25731562e-035 2.34280775e-035 2.29754622e-035 1.18664609e-035\n",
      " 1.12929011e-035 1.09178786e-035 8.86673471e-036 8.78098514e-036\n",
      " 8.35448784e-036 8.17978419e-036 7.09919124e-036 6.74685317e-036\n",
      " 3.69115184e-036 3.50484339e-036 1.15406986e-036 1.09678421e-036\n",
      " 8.39383445e-037 8.13198001e-037 7.84337557e-041 6.88745393e-041\n",
      " 1.12700045e-057 9.97690576e-058 5.01384669e-058 4.51246675e-058\n",
      " 5.99440890e-069 5.74707927e-069 2.82067089e-069 2.53883449e-069\n",
      " 7.27621470e-073 7.14119521e-073 8.58911965e-077 8.15062277e-077\n",
      " 1.24902927e-079 1.08562371e-079 4.07045752e-095 4.03392226e-095\n",
      " 3.12650672e-116 1.39958562e-116 4.32626029e-151 1.02070964e-151\n",
      " 1.35205841e-169 7.70915821e-170 3.65205516e-176 3.60843484e-176\n",
      " 6.33584963e-187 2.17618124e-187 2.23313719e-318 0.00000000e+000]\n"
     ]
    },
    {
     "data": {
      "image/png": "[encoded data removed]",
      "text/plain": [
       "<Figure size 432x288 with 1 Axes>"
      ]
     },
     "metadata": {
      "needs_background": "light"
     },
     "output_type": "display_data"
    },
    {
     "name": "stdout",
     "output_type": "stream",
     "text": [
      "----AUC----AREA---UNDER---CURVE-------------------\n",
      "\n",
      "0.9958662876244154\n",
      "Percentage of valid mails classified as spam (FPR): 1%\n",
      "Percentage of valid mails classified as spam: 2%\n"
     ]
    }
   ],
   "source": [
    "#PART E c). Draw ROC curve and calculate AUC score using test set.\n",
    "print(\"----ROC----RECEIVER---OPERATOR---CHARACTERSTIC----\\n\")\n",
    "fpr_e, tpr_e, thresholds_e = roc_curve(test_data_e.spam, base_predicted_proba_e[:,1])\n",
    "print(\"When prob>threshold => return 1 else return 0.\")\n",
    "print(\"Prob tresholds:\\n\",thresholds_e)\n",
    "plt.plot(fpr_e,tpr_e)\n",
    "plt.show()\n",
    "print(\"----AUC----AREA---UNDER---CURVE-------------------\\n\")\n",
    "print(roc_auc_score(test_data_e.spam, base_predicted_proba_e[:,1]))\n",
    "\n",
    "#PART E d). What percentage of valid mails is spam?\n",
    "#In other words we are looking for FPR, where positive means spam.\n",
    "ham_mails_as_spam_e = np.count_nonzero(base_predicted_e[np.where(test_data_e.spam==0)]==1)\n",
    "ham_mails_e = len(base_predicted_e[np.where(test_data_e.spam==0)])\n",
    "print(\"Percentage of valid mails classified as spam (FPR): {0:.0%}\".format(ham_mails_as_spam_e/ham_mails_e))\n",
    "\n",
    "#PART E e). Assuming that only mails classified as ham are put \n",
    "#in our mailbox what percentage of mail in our inbox is spam?\n",
    "#In other words we are looking for FNR.\n",
    "spam_mails_as_ham_e= np.count_nonzero(base_predicted_e[np.where(test_data_e.spam==1)]==0)\n",
    "as_ham_mails_e = np.count_nonzero(base_predicted_e==0)\n",
    "\n",
    "print(\"Percentage of valid mails classified as spam: {0:.0%}\".format(spam_mails_as_ham_e/as_ham_mails_e))"
   ]
  },
  {
   "cell_type": "markdown",
   "metadata": {},
   "source": [
    "# PART: F\n",
    "#Assumimg that we want to keep the frequency \n",
    "#of misclassified ham mails below 5 per mile,\n",
    "#what would be the percentage of spam in our inbox?"
   ]
  },
  {
   "cell_type": "code",
   "execution_count": null,
   "metadata": {},
   "outputs": [],
   "source": []
  }
 ],
 "metadata": {
  "kernelspec": {
   "display_name": "Python 3",
   "language": "python",
   "name": "python3"
  },
  "language_info": {
   "codemirror_mode": {
    "name": "ipython",
    "version": 3
   },
   "file_extension": ".py",
   "mimetype": "text/x-python",
   "name": "python",
   "nbconvert_exporter": "python",
   "pygments_lexer": "ipython3",
   "version": "3.7.6"
  }
 },
 "nbformat": 4,
 "nbformat_minor": 4
}
